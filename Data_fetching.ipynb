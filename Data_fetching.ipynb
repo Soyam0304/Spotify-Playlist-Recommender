{
 "cells": [
  {
   "cell_type": "code",
   "execution_count": 1,
   "id": "0833becb-1ca4-4f60-b72c-7ba2be0f7ac4",
   "metadata": {},
   "outputs": [],
   "source": [
    "import requests\n",
    "import base64"
   ]
  },
  {
   "cell_type": "code",
   "execution_count": 2,
   "id": "fcd554f8-4c89-4aee-83e6-93820d00bceb",
   "metadata": {},
   "outputs": [],
   "source": [
    "CLIENT_ID ='paste your cilent id here '\n",
    "CLIENT_SECRET = 'paste your code here '"
   ]
  },
  {
   "cell_type": "code",
   "execution_count": 3,
   "id": "3fbd0796-4d1c-4fb4-b84c-0ecca4ab0cca",
   "metadata": {},
   "outputs": [],
   "source": [
    "client_credentials = f\"{CLIENT_ID}:{CLIENT_SECRET}\"\n",
    "client_credentials_base64 = base64.b64encode(client_credentials.encode())\n"
   ]
  },
  {
   "cell_type": "code",
   "execution_count": null,
   "id": "c9d9c3d6-05a8-4a9a-b744-9674915974ec",
   "metadata": {},
   "outputs": [],
   "source": []
  },
  {
   "cell_type": "code",
   "execution_count": 4,
   "id": "854e1621-7939-4695-b90d-f7cba86c1bd3",
   "metadata": {},
   "outputs": [],
   "source": [
    "token_url = 'https://accounts.spotify.com/api/token'\n",
    "headers = {\n",
    "    'Authorization': f'Basic {client_credentials_base64.decode()}'\n",
    "}\n",
    "data = {\n",
    "    'grant_type': 'client_credentials'\n",
    "}\n",
    "response = requests.post(token_url, data=data, headers=headers)"
   ]
  },
  {
   "cell_type": "code",
   "execution_count": null,
   "id": "bec11e28-0cdf-4f91-894e-d7c02f288081",
   "metadata": {},
   "outputs": [],
   "source": []
  },
  {
   "cell_type": "code",
   "execution_count": 80,
   "id": "0c95c462-94e2-42c4-a942-86996d250b41",
   "metadata": {},
   "outputs": [
    {
     "name": "stdout",
     "output_type": "stream",
     "text": [
      "Access token obtained successfully.\n"
     ]
    }
   ],
   "source": [
    "if response.status_code == 200:\n",
    "    access_token = response.json()['access_token']\n",
    "    print(\"Access token obtained successfully.\")\n",
    "else:\n",
    "    print(\"Error obtaining access token.\")\n",
    "    exit()"
   ]
  },
  {
   "cell_type": "code",
   "execution_count": null,
   "id": "a0eec46a-c06e-4aaf-b05f-273f52a2c309",
   "metadata": {},
   "outputs": [],
   "source": []
  },
  {
   "cell_type": "code",
   "execution_count": null,
   "id": "0956da00-0b05-445b-94b2-c20650f15856",
   "metadata": {},
   "outputs": [],
   "source": []
  },
  {
   "cell_type": "code",
   "execution_count": 81,
   "id": "c0c5addc-8f63-4b73-bf98-ab8735336b7e",
   "metadata": {},
   "outputs": [
    {
     "name": "stderr",
     "output_type": "stream",
     "text": [
      "HTTP Error for GET to https://api.spotify.com/v1/audio-features/?ids=0zQa7QXLpUZfrrsWbgDZll with Params: {} returned 403 due to None\n"
     ]
    },
    {
     "name": "stdout",
     "output_type": "stream",
     "text": [
      "Error fetching audio features for track Beete Lamhein: http status: 403, code:-1 - https://api.spotify.com/v1/audio-features/?ids=0zQa7QXLpUZfrrsWbgDZll:\n",
      " None, reason: None\n"
     ]
    },
    {
     "name": "stderr",
     "output_type": "stream",
     "text": [
      "HTTP Error for GET to https://api.spotify.com/v1/audio-features/?ids=4OOXIr4Wce7TuLUu65v653 with Params: {} returned 403 due to None\n"
     ]
    },
    {
     "name": "stdout",
     "output_type": "stream",
     "text": [
      "Error fetching audio features for track Ik Bagal: http status: 403, code:-1 - https://api.spotify.com/v1/audio-features/?ids=4OOXIr4Wce7TuLUu65v653:\n",
      " None, reason: None\n"
     ]
    },
    {
     "name": "stderr",
     "output_type": "stream",
     "text": [
      "HTTP Error for GET to https://api.spotify.com/v1/audio-features/?ids=7fW9J3EpVWVN1ouv0slAs0 with Params: {} returned 403 due to None\n"
     ]
    },
    {
     "name": "stdout",
     "output_type": "stream",
     "text": [
      "Error fetching audio features for track Kya Mujhe Pyar Hai (From \"Woh Lamhe\"): http status: 403, code:-1 - https://api.spotify.com/v1/audio-features/?ids=7fW9J3EpVWVN1ouv0slAs0:\n",
      " None, reason: None\n"
     ]
    },
    {
     "name": "stderr",
     "output_type": "stream",
     "text": [
      "HTTP Error for GET to https://api.spotify.com/v1/audio-features/?ids=4eKWtXoGajnaGKvKAcgc8f with Params: {} returned 403 due to None\n"
     ]
    },
    {
     "name": "stdout",
     "output_type": "stream",
     "text": [
      "Error fetching audio features for track Dhoom Taana: http status: 403, code:-1 - https://api.spotify.com/v1/audio-features/?ids=4eKWtXoGajnaGKvKAcgc8f:\n",
      " None, reason: None\n"
     ]
    },
    {
     "name": "stderr",
     "output_type": "stream",
     "text": [
      "HTTP Error for GET to https://api.spotify.com/v1/audio-features/?ids=6UgcN95w7vQxkR8sEFmwHG with Params: {} returned 403 due to None\n"
     ]
    },
    {
     "name": "stdout",
     "output_type": "stream",
     "text": [
      "Error fetching audio features for track Chahun Main Ya Naa: http status: 403, code:-1 - https://api.spotify.com/v1/audio-features/?ids=6UgcN95w7vQxkR8sEFmwHG:\n",
      " None, reason: None\n"
     ]
    },
    {
     "name": "stderr",
     "output_type": "stream",
     "text": [
      "HTTP Error for GET to https://api.spotify.com/v1/audio-features/?ids=3yV2c3cYhkAwSsxAq6nRiv with Params: {} returned 403 due to None\n"
     ]
    },
    {
     "name": "stdout",
     "output_type": "stream",
     "text": [
      "Error fetching audio features for track Mann Mera: http status: 403, code:-1 - https://api.spotify.com/v1/audio-features/?ids=3yV2c3cYhkAwSsxAq6nRiv:\n",
      " None, reason: None\n"
     ]
    },
    {
     "name": "stderr",
     "output_type": "stream",
     "text": [
      "HTTP Error for GET to https://api.spotify.com/v1/audio-features/?ids=6g0HHWLJwfe2PlbgHi8pBj with Params: {} returned 403 due to None\n"
     ]
    },
    {
     "name": "stdout",
     "output_type": "stream",
     "text": [
      "Error fetching audio features for track Be Intehaan: http status: 403, code:-1 - https://api.spotify.com/v1/audio-features/?ids=6g0HHWLJwfe2PlbgHi8pBj:\n",
      " None, reason: None\n"
     ]
    },
    {
     "name": "stderr",
     "output_type": "stream",
     "text": [
      "HTTP Error for GET to https://api.spotify.com/v1/audio-features/?ids=3tgdOveYac7YMEAQD9sGLf with Params: {} returned 403 due to None\n"
     ]
    },
    {
     "name": "stdout",
     "output_type": "stream",
     "text": [
      "Error fetching audio features for track Bulleya: http status: 403, code:-1 - https://api.spotify.com/v1/audio-features/?ids=3tgdOveYac7YMEAQD9sGLf:\n",
      " None, reason: None\n"
     ]
    },
    {
     "name": "stderr",
     "output_type": "stream",
     "text": [
      "HTTP Error for GET to https://api.spotify.com/v1/audio-features/?ids=0KSOLEBixnBYIKNHF1VbzF with Params: {} returned 403 due to None\n"
     ]
    },
    {
     "name": "stdout",
     "output_type": "stream",
     "text": [
      "Error fetching audio features for track Hona Tha Pyar: http status: 403, code:-1 - https://api.spotify.com/v1/audio-features/?ids=0KSOLEBixnBYIKNHF1VbzF:\n",
      " None, reason: None\n"
     ]
    },
    {
     "name": "stderr",
     "output_type": "stream",
     "text": [
      "HTTP Error for GET to https://api.spotify.com/v1/audio-features/?ids=17opN752ZQpNuoptelsNQ1 with Params: {} returned 403 due to None\n"
     ]
    },
    {
     "name": "stdout",
     "output_type": "stream",
     "text": [
      "Error fetching audio features for track Pehli Nazar Mein: http status: 403, code:-1 - https://api.spotify.com/v1/audio-features/?ids=17opN752ZQpNuoptelsNQ1:\n",
      " None, reason: None\n"
     ]
    },
    {
     "name": "stderr",
     "output_type": "stream",
     "text": [
      "HTTP Error for GET to https://api.spotify.com/v1/audio-features/?ids=3beYHVCFKzbdNjJqjKeYpM with Params: {} returned 403 due to None\n"
     ]
    },
    {
     "name": "stdout",
     "output_type": "stream",
     "text": [
      "Error fetching audio features for track Teri Jhuki Nazar: http status: 403, code:-1 - https://api.spotify.com/v1/audio-features/?ids=3beYHVCFKzbdNjJqjKeYpM:\n",
      " None, reason: None\n"
     ]
    },
    {
     "name": "stderr",
     "output_type": "stream",
     "text": [
      "HTTP Error for GET to https://api.spotify.com/v1/audio-features/?ids=4CGBTtlrjZj7ydpV52cgB4 with Params: {} returned 403 due to None\n"
     ]
    },
    {
     "name": "stdout",
     "output_type": "stream",
     "text": [
      "Error fetching audio features for track Maula Mere Maula: http status: 403, code:-1 - https://api.spotify.com/v1/audio-features/?ids=4CGBTtlrjZj7ydpV52cgB4:\n",
      " None, reason: None\n"
     ]
    },
    {
     "name": "stderr",
     "output_type": "stream",
     "text": [
      "HTTP Error for GET to https://api.spotify.com/v1/audio-features/?ids=6MudETKykE31rz3v2DOHa0 with Params: {} returned 403 due to None\n"
     ]
    },
    {
     "name": "stdout",
     "output_type": "stream",
     "text": [
      "Error fetching audio features for track Dagabaaz Re: http status: 403, code:-1 - https://api.spotify.com/v1/audio-features/?ids=6MudETKykE31rz3v2DOHa0:\n",
      " None, reason: None\n"
     ]
    },
    {
     "name": "stderr",
     "output_type": "stream",
     "text": [
      "HTTP Error for GET to https://api.spotify.com/v1/audio-features/?ids=4gqHEia13bp5EFWGitiKWx with Params: {} returned 403 due to None\n"
     ]
    },
    {
     "name": "stdout",
     "output_type": "stream",
     "text": [
      "Error fetching audio features for track Chor Bazaari: http status: 403, code:-1 - https://api.spotify.com/v1/audio-features/?ids=4gqHEia13bp5EFWGitiKWx:\n",
      " None, reason: None\n"
     ]
    },
    {
     "name": "stderr",
     "output_type": "stream",
     "text": [
      "HTTP Error for GET to https://api.spotify.com/v1/audio-features/?ids=4wtnNTPCnUrVzcilVmkKbo with Params: {} returned 403 due to None\n"
     ]
    },
    {
     "name": "stdout",
     "output_type": "stream",
     "text": [
      "Error fetching audio features for track Laila Laila: http status: 403, code:-1 - https://api.spotify.com/v1/audio-features/?ids=4wtnNTPCnUrVzcilVmkKbo:\n",
      " None, reason: None\n"
     ]
    },
    {
     "name": "stderr",
     "output_type": "stream",
     "text": [
      "HTTP Error for GET to https://api.spotify.com/v1/audio-features/?ids=0GVPRo9LEjxjT4C4o8BGot with Params: {} returned 403 due to None\n"
     ]
    },
    {
     "name": "stdout",
     "output_type": "stream",
     "text": [
      "Error fetching audio features for track Is This Love: http status: 403, code:-1 - https://api.spotify.com/v1/audio-features/?ids=0GVPRo9LEjxjT4C4o8BGot:\n",
      " None, reason: None\n"
     ]
    },
    {
     "name": "stderr",
     "output_type": "stream",
     "text": [
      "HTTP Error for GET to https://api.spotify.com/v1/audio-features/?ids=1vgVsR5rkXGP4NmUcoroJH with Params: {} returned 403 due to None\n"
     ]
    },
    {
     "name": "stdout",
     "output_type": "stream",
     "text": [
      "Error fetching audio features for track Aye Khuda: http status: 403, code:-1 - https://api.spotify.com/v1/audio-features/?ids=1vgVsR5rkXGP4NmUcoroJH:\n",
      " None, reason: None\n"
     ]
    },
    {
     "name": "stderr",
     "output_type": "stream",
     "text": [
      "HTTP Error for GET to https://api.spotify.com/v1/audio-features/?ids=16XEVyPh5NT31CAAqPbxQF with Params: {} returned 403 due to None\n"
     ]
    },
    {
     "name": "stdout",
     "output_type": "stream",
     "text": [
      "Error fetching audio features for track Aankhein Khuli: http status: 403, code:-1 - https://api.spotify.com/v1/audio-features/?ids=16XEVyPh5NT31CAAqPbxQF:\n",
      " None, reason: None\n"
     ]
    },
    {
     "name": "stderr",
     "output_type": "stream",
     "text": [
      "HTTP Error for GET to https://api.spotify.com/v1/audio-features/?ids=0u8wprNfOdcWpUlWnfMcpP with Params: {} returned 403 due to None\n"
     ]
    },
    {
     "name": "stdout",
     "output_type": "stream",
     "text": [
      "Error fetching audio features for track Bol Na Halke Halke: http status: 403, code:-1 - https://api.spotify.com/v1/audio-features/?ids=0u8wprNfOdcWpUlWnfMcpP:\n",
      " None, reason: None\n"
     ]
    },
    {
     "name": "stderr",
     "output_type": "stream",
     "text": [
      "HTTP Error for GET to https://api.spotify.com/v1/audio-features/?ids=5wQlXgGVSwvBVKXf5lmWhp with Params: {} returned 403 due to None\n"
     ]
    },
    {
     "name": "stdout",
     "output_type": "stream",
     "text": [
      "Error fetching audio features for track Jiya Dhadak Dhadak Jaye: http status: 403, code:-1 - https://api.spotify.com/v1/audio-features/?ids=5wQlXgGVSwvBVKXf5lmWhp:\n",
      " None, reason: None\n"
     ]
    },
    {
     "name": "stderr",
     "output_type": "stream",
     "text": [
      "HTTP Error for GET to https://api.spotify.com/v1/audio-features/?ids=0h73AwuEY2x44cBMOP58fO with Params: {} returned 403 due to None\n"
     ]
    },
    {
     "name": "stdout",
     "output_type": "stream",
     "text": [
      "Error fetching audio features for track Bakhuda Tumhi Ho: http status: 403, code:-1 - https://api.spotify.com/v1/audio-features/?ids=0h73AwuEY2x44cBMOP58fO:\n",
      " None, reason: None\n"
     ]
    },
    {
     "name": "stderr",
     "output_type": "stream",
     "text": [
      "HTTP Error for GET to https://api.spotify.com/v1/audio-features/?ids=2EN5aTDtX8852Ih3ss8Rih with Params: {} returned 403 due to None\n"
     ]
    },
    {
     "name": "stdout",
     "output_type": "stream",
     "text": [
      "Error fetching audio features for track Tum Ho Mera Pyar: http status: 403, code:-1 - https://api.spotify.com/v1/audio-features/?ids=2EN5aTDtX8852Ih3ss8Rih:\n",
      " None, reason: None\n"
     ]
    },
    {
     "name": "stderr",
     "output_type": "stream",
     "text": [
      "HTTP Error for GET to https://api.spotify.com/v1/audio-features/?ids=2JDsi7S0UmtGoyVPTda0ao with Params: {} returned 403 due to None\n"
     ]
    },
    {
     "name": "stdout",
     "output_type": "stream",
     "text": [
      "Error fetching audio features for track Prem Ki Naiyya: http status: 403, code:-1 - https://api.spotify.com/v1/audio-features/?ids=2JDsi7S0UmtGoyVPTda0ao:\n",
      " None, reason: None\n"
     ]
    },
    {
     "name": "stderr",
     "output_type": "stream",
     "text": [
      "HTTP Error for GET to https://api.spotify.com/v1/audio-features/?ids=0fCQRUbk8LIQTdQYGNtGyv with Params: {} returned 403 due to None\n"
     ]
    },
    {
     "name": "stdout",
     "output_type": "stream",
     "text": [
      "Error fetching audio features for track Tere Liye: http status: 403, code:-1 - https://api.spotify.com/v1/audio-features/?ids=0fCQRUbk8LIQTdQYGNtGyv:\n",
      " None, reason: None\n"
     ]
    },
    {
     "name": "stderr",
     "output_type": "stream",
     "text": [
      "HTTP Error for GET to https://api.spotify.com/v1/audio-features/?ids=02zPo0Dt0R4TTFY5zLJZnK with Params: {} returned 403 due to None\n"
     ]
    },
    {
     "name": "stdout",
     "output_type": "stream",
     "text": [
      "Error fetching audio features for track Neele Neele Ambar Par - Male Version: http status: 403, code:-1 - https://api.spotify.com/v1/audio-features/?ids=02zPo0Dt0R4TTFY5zLJZnK:\n",
      " None, reason: None\n"
     ]
    },
    {
     "name": "stderr",
     "output_type": "stream",
     "text": [
      "HTTP Error for GET to https://api.spotify.com/v1/audio-features/?ids=1hA697u7e1jX2XM8sWA6Uy with Params: {} returned 403 due to None\n"
     ]
    },
    {
     "name": "stdout",
     "output_type": "stream",
     "text": [
      "Error fetching audio features for track Apna Bana Le: http status: 403, code:-1 - https://api.spotify.com/v1/audio-features/?ids=1hA697u7e1jX2XM8sWA6Uy:\n",
      " None, reason: None\n"
     ]
    },
    {
     "name": "stderr",
     "output_type": "stream",
     "text": [
      "HTTP Error for GET to https://api.spotify.com/v1/audio-features/?ids=2Fv2injs4qAm8mJBGaxVKU with Params: {} returned 403 due to None\n"
     ]
    },
    {
     "name": "stdout",
     "output_type": "stream",
     "text": [
      "Error fetching audio features for track Tujhe Kitna Chahne Lage (From \"Kabir Singh\"): http status: 403, code:-1 - https://api.spotify.com/v1/audio-features/?ids=2Fv2injs4qAm8mJBGaxVKU:\n",
      " None, reason: None\n"
     ]
    },
    {
     "name": "stderr",
     "output_type": "stream",
     "text": [
      "HTTP Error for GET to https://api.spotify.com/v1/audio-features/?ids=5PUXKVVVQ74C3gl5vKy9Li with Params: {} returned 403 due to None\n"
     ]
    },
    {
     "name": "stdout",
     "output_type": "stream",
     "text": [
      "Error fetching audio features for track Heeriye (feat. Arijit Singh): http status: 403, code:-1 - https://api.spotify.com/v1/audio-features/?ids=5PUXKVVVQ74C3gl5vKy9Li:\n",
      " None, reason: None\n"
     ]
    },
    {
     "name": "stderr",
     "output_type": "stream",
     "text": [
      "HTTP Error for GET to https://api.spotify.com/v1/audio-features/?ids=6bmmHeCvZI92pRiTHxEdTC with Params: {} returned 403 due to None\n"
     ]
    },
    {
     "name": "stdout",
     "output_type": "stream",
     "text": [
      "Error fetching audio features for track O Maahi: http status: 403, code:-1 - https://api.spotify.com/v1/audio-features/?ids=6bmmHeCvZI92pRiTHxEdTC:\n",
      " None, reason: None\n"
     ]
    },
    {
     "name": "stderr",
     "output_type": "stream",
     "text": [
      "HTTP Error for GET to https://api.spotify.com/v1/audio-features/?ids=2FCXQHugkoHE1K3tiDu8pu with Params: {} returned 403 due to None\n"
     ]
    },
    {
     "name": "stdout",
     "output_type": "stream",
     "text": [
      "Error fetching audio features for track Agar Tum Saath Ho (From \"Tamasha\"): http status: 403, code:-1 - https://api.spotify.com/v1/audio-features/?ids=2FCXQHugkoHE1K3tiDu8pu:\n",
      " None, reason: None\n"
     ]
    },
    {
     "name": "stderr",
     "output_type": "stream",
     "text": [
      "HTTP Error for GET to https://api.spotify.com/v1/audio-features/?ids=1bxzr3JK05fMTcweGAZUHp with Params: {} returned 403 due to None\n"
     ]
    },
    {
     "name": "stdout",
     "output_type": "stream",
     "text": [
      "Error fetching audio features for track Chuttamalle (From \"Devara Part 1\"): http status: 403, code:-1 - https://api.spotify.com/v1/audio-features/?ids=1bxzr3JK05fMTcweGAZUHp:\n",
      " None, reason: None\n"
     ]
    },
    {
     "name": "stderr",
     "output_type": "stream",
     "text": [
      "HTTP Error for GET to https://api.spotify.com/v1/audio-features/?ids=3xMHXmedL5Rvfxmiar9Ryv with Params: {} returned 403 due to None\n"
     ]
    },
    {
     "name": "stdout",
     "output_type": "stream",
     "text": [
      "Error fetching audio features for track Chaleya: http status: 403, code:-1 - https://api.spotify.com/v1/audio-features/?ids=3xMHXmedL5Rvfxmiar9Ryv:\n",
      " None, reason: None\n"
     ]
    },
    {
     "name": "stderr",
     "output_type": "stream",
     "text": [
      "HTTP Error for GET to https://api.spotify.com/v1/audio-features/?ids=3CA9CjRf7IU2Ukz3GuYInP with Params: {} returned 403 due to None\n"
     ]
    },
    {
     "name": "stdout",
     "output_type": "stream",
     "text": [
      "Error fetching audio features for track Manasilaayo: http status: 403, code:-1 - https://api.spotify.com/v1/audio-features/?ids=3CA9CjRf7IU2Ukz3GuYInP:\n",
      " None, reason: None\n"
     ]
    },
    {
     "name": "stderr",
     "output_type": "stream",
     "text": [
      "HTTP Error for GET to https://api.spotify.com/v1/audio-features/?ids=5KRF3484mnhyYFVXyvsBEf with Params: {} returned 403 due to None\n"
     ]
    },
    {
     "name": "stdout",
     "output_type": "stream",
     "text": [
      "Error fetching audio features for track Hunter Vantaar: http status: 403, code:-1 - https://api.spotify.com/v1/audio-features/?ids=5KRF3484mnhyYFVXyvsBEf:\n",
      " None, reason: None\n"
     ]
    },
    {
     "name": "stderr",
     "output_type": "stream",
     "text": [
      "HTTP Error for GET to https://api.spotify.com/v1/audio-features/?ids=6b2WJDzGt5X8dYfpkWtvXW with Params: {} returned 403 due to None\n"
     ]
    },
    {
     "name": "stdout",
     "output_type": "stream",
     "text": [
      "Error fetching audio features for track Fear Song (From \"Devara Part 1\") [Telugu]: http status: 403, code:-1 - https://api.spotify.com/v1/audio-features/?ids=6b2WJDzGt5X8dYfpkWtvXW:\n",
      " None, reason: None\n"
     ]
    },
    {
     "name": "stderr",
     "output_type": "stream",
     "text": [
      "HTTP Error for GET to https://api.spotify.com/v1/audio-features/?ids=5DgY6Ab0vpyUMKnY9ubFOF with Params: {} returned 403 due to None\n"
     ]
    },
    {
     "name": "stdout",
     "output_type": "stream",
     "text": [
      "Error fetching audio features for track Hukum - Thalaivar Alappara: http status: 403, code:-1 - https://api.spotify.com/v1/audio-features/?ids=5DgY6Ab0vpyUMKnY9ubFOF:\n",
      " None, reason: None\n"
     ]
    },
    {
     "name": "stderr",
     "output_type": "stream",
     "text": [
      "HTTP Error for GET to https://api.spotify.com/v1/audio-features/?ids=7eQl3Yqv35ioqUfveKHitE with Params: {} returned 403 due to None\n"
     ]
    },
    {
     "name": "stdout",
     "output_type": "stream",
     "text": [
      "Error fetching audio features for track Tum Se Hi: http status: 403, code:-1 - https://api.spotify.com/v1/audio-features/?ids=7eQl3Yqv35ioqUfveKHitE:\n",
      " None, reason: None\n"
     ]
    },
    {
     "name": "stderr",
     "output_type": "stream",
     "text": [
      "HTTP Error for GET to https://api.spotify.com/v1/audio-features/?ids=52itZ0w0CydihB2JCZEIft with Params: {} returned 403 due to None\n"
     ]
    },
    {
     "name": "stdout",
     "output_type": "stream",
     "text": [
      "Error fetching audio features for track Pee Loon: http status: 403, code:-1 - https://api.spotify.com/v1/audio-features/?ids=52itZ0w0CydihB2JCZEIft:\n",
      " None, reason: None\n"
     ]
    },
    {
     "name": "stderr",
     "output_type": "stream",
     "text": [
      "HTTP Error for GET to https://api.spotify.com/v1/audio-features/?ids=4r8JqkhpTb5tzSKKHnVJIJ with Params: {} returned 403 due to None\n"
     ]
    },
    {
     "name": "stdout",
     "output_type": "stream",
     "text": [
      "Error fetching audio features for track Tujhe Bhula Diya: http status: 403, code:-1 - https://api.spotify.com/v1/audio-features/?ids=4r8JqkhpTb5tzSKKHnVJIJ:\n",
      " None, reason: None\n"
     ]
    },
    {
     "name": "stderr",
     "output_type": "stream",
     "text": [
      "HTTP Error for GET to https://api.spotify.com/v1/audio-features/?ids=7mSzDKajY2wUtstQSLdzMK with Params: {} returned 403 due to None\n"
     ]
    },
    {
     "name": "stdout",
     "output_type": "stream",
     "text": [
      "Error fetching audio features for track Rang Lageya: http status: 403, code:-1 - https://api.spotify.com/v1/audio-features/?ids=7mSzDKajY2wUtstQSLdzMK:\n",
      " None, reason: None\n"
     ]
    },
    {
     "name": "stderr",
     "output_type": "stream",
     "text": [
      "HTTP Error for GET to https://api.spotify.com/v1/audio-features/?ids=7F8RNvTQlvbeBLeenycvN6 with Params: {} returned 403 due to None\n"
     ]
    },
    {
     "name": "stdout",
     "output_type": "stream",
     "text": [
      "Error fetching audio features for track Kun Faya Kun: http status: 403, code:-1 - https://api.spotify.com/v1/audio-features/?ids=7F8RNvTQlvbeBLeenycvN6:\n",
      " None, reason: None\n"
     ]
    },
    {
     "name": "stderr",
     "output_type": "stream",
     "text": [
      "HTTP Error for GET to https://api.spotify.com/v1/audio-features/?ids=7uNnlVit5qDvfOje0pqICF with Params: {} returned 403 due to None\n"
     ]
    },
    {
     "name": "stdout",
     "output_type": "stream",
     "text": [
      "Error fetching audio features for track Tum Ho: http status: 403, code:-1 - https://api.spotify.com/v1/audio-features/?ids=7uNnlVit5qDvfOje0pqICF:\n",
      " None, reason: None\n"
     ]
    },
    {
     "name": "stderr",
     "output_type": "stream",
     "text": [
      "HTTP Error for GET to https://api.spotify.com/v1/audio-features/?ids=1ocYa8PoVd5e2vPn0xHJcA with Params: {} returned 403 due to None\n"
     ]
    },
    {
     "name": "stdout",
     "output_type": "stream",
     "text": [
      "Error fetching audio features for track Saiyaara: http status: 403, code:-1 - https://api.spotify.com/v1/audio-features/?ids=1ocYa8PoVd5e2vPn0xHJcA:\n",
      " None, reason: None\n"
     ]
    },
    {
     "name": "stderr",
     "output_type": "stream",
     "text": [
      "HTTP Error for GET to https://api.spotify.com/v1/audio-features/?ids=1QufGJee7k9v4Cfp2NxXbv with Params: {} returned 403 due to None\n"
     ]
    },
    {
     "name": "stdout",
     "output_type": "stream",
     "text": [
      "Error fetching audio features for track Abhi Kuch Dino Se: http status: 403, code:-1 - https://api.spotify.com/v1/audio-features/?ids=1QufGJee7k9v4Cfp2NxXbv:\n",
      " None, reason: None\n"
     ]
    },
    {
     "name": "stderr",
     "output_type": "stream",
     "text": [
      "HTTP Error for GET to https://api.spotify.com/v1/audio-features/?ids=5GeBgck1MU2tlIkMpsn8uT with Params: {} returned 403 due to None\n"
     ]
    },
    {
     "name": "stdout",
     "output_type": "stream",
     "text": [
      "Error fetching audio features for track Matargashti: http status: 403, code:-1 - https://api.spotify.com/v1/audio-features/?ids=5GeBgck1MU2tlIkMpsn8uT:\n",
      " None, reason: None\n"
     ]
    },
    {
     "name": "stderr",
     "output_type": "stream",
     "text": [
      "HTTP Error for GET to https://api.spotify.com/v1/audio-features/?ids=5F79ZdjOwGOhUKRHx94sr1 with Params: {} returned 403 due to None\n"
     ]
    },
    {
     "name": "stdout",
     "output_type": "stream",
     "text": [
      "Error fetching audio features for track Dooriyan: http status: 403, code:-1 - https://api.spotify.com/v1/audio-features/?ids=5F79ZdjOwGOhUKRHx94sr1:\n",
      " None, reason: None\n"
     ]
    },
    {
     "name": "stderr",
     "output_type": "stream",
     "text": [
      "HTTP Error for GET to https://api.spotify.com/v1/audio-features/?ids=2GXXZFUxYg2LvG8SR0byOE with Params: {} returned 403 due to None\n"
     ]
    },
    {
     "name": "stdout",
     "output_type": "stream",
     "text": [
      "Error fetching audio features for track Jeena Jeena: http status: 403, code:-1 - https://api.spotify.com/v1/audio-features/?ids=2GXXZFUxYg2LvG8SR0byOE:\n",
      " None, reason: None\n"
     ]
    },
    {
     "name": "stderr",
     "output_type": "stream",
     "text": [
      "HTTP Error for GET to https://api.spotify.com/v1/audio-features/?ids=6fScgF2Y63ScU73nYju0ny with Params: {} returned 403 due to None\n"
     ]
    },
    {
     "name": "stdout",
     "output_type": "stream",
     "text": [
      "Error fetching audio features for track O Saathi: http status: 403, code:-1 - https://api.spotify.com/v1/audio-features/?ids=6fScgF2Y63ScU73nYju0ny:\n",
      " None, reason: None\n"
     ]
    },
    {
     "name": "stderr",
     "output_type": "stream",
     "text": [
      "HTTP Error for GET to https://api.spotify.com/v1/audio-features/?ids=0FBQ4NrrHUbR9kus7rzrOj with Params: {} returned 403 due to None\n"
     ]
    },
    {
     "name": "stdout",
     "output_type": "stream",
     "text": [
      "Error fetching audio features for track Dil Diyan Gallan: http status: 403, code:-1 - https://api.spotify.com/v1/audio-features/?ids=0FBQ4NrrHUbR9kus7rzrOj:\n",
      " None, reason: None\n"
     ]
    },
    {
     "name": "stderr",
     "output_type": "stream",
     "text": [
      "HTTP Error for GET to https://api.spotify.com/v1/audio-features/?ids=48Ix6ReYdJf2H4mKb3TIpj with Params: {} returned 403 due to None\n"
     ]
    },
    {
     "name": "stdout",
     "output_type": "stream",
     "text": [
      "Error fetching audio features for track Tera Hone Laga Hoon: http status: 403, code:-1 - https://api.spotify.com/v1/audio-features/?ids=48Ix6ReYdJf2H4mKb3TIpj:\n",
      " None, reason: None\n"
     ]
    },
    {
     "name": "stderr",
     "output_type": "stream",
     "text": [
      "HTTP Error for GET to https://api.spotify.com/v1/audio-features/?ids=5sUSbJo0brScvv48ZZ1HrQ with Params: {} returned 403 due to None\n"
     ]
    },
    {
     "name": "stdout",
     "output_type": "stream",
     "text": [
      "Error fetching audio features for track O Meri Laila: http status: 403, code:-1 - https://api.spotify.com/v1/audio-features/?ids=5sUSbJo0brScvv48ZZ1HrQ:\n",
      " None, reason: None\n"
     ]
    },
    {
     "name": "stderr",
     "output_type": "stream",
     "text": [
      "HTTP Error for GET to https://api.spotify.com/v1/audio-features/?ids=4Tkb7zsDmsawB7S5TpKQV1 with Params: {} returned 403 due to None\n"
     ]
    },
    {
     "name": "stdout",
     "output_type": "stream",
     "text": [
      "Error fetching audio features for track Pehli Dafa: http status: 403, code:-1 - https://api.spotify.com/v1/audio-features/?ids=4Tkb7zsDmsawB7S5TpKQV1:\n",
      " None, reason: None\n"
     ]
    },
    {
     "name": "stderr",
     "output_type": "stream",
     "text": [
      "HTTP Error for GET to https://api.spotify.com/v1/audio-features/?ids=5vGiuYFSGekGLgbxhV1rD5 with Params: {} returned 403 due to None\n"
     ]
    },
    {
     "name": "stdout",
     "output_type": "stream",
     "text": [
      "Error fetching audio features for track Tu Jaane Na: http status: 403, code:-1 - https://api.spotify.com/v1/audio-features/?ids=5vGiuYFSGekGLgbxhV1rD5:\n",
      " None, reason: None\n"
     ]
    },
    {
     "name": "stderr",
     "output_type": "stream",
     "text": [
      "HTTP Error for GET to https://api.spotify.com/v1/audio-features/?ids=72CkpVdvmc8t28o8I9N32J with Params: {} returned 403 due to None\n"
     ]
    },
    {
     "name": "stdout",
     "output_type": "stream",
     "text": [
      "Error fetching audio features for track Tere Sang Yaara: http status: 403, code:-1 - https://api.spotify.com/v1/audio-features/?ids=72CkpVdvmc8t28o8I9N32J:\n",
      " None, reason: None\n"
     ]
    },
    {
     "name": "stderr",
     "output_type": "stream",
     "text": [
      "HTTP Error for GET to https://api.spotify.com/v1/audio-features/?ids=3t3wsY5IdLVzB9WidegJSU with Params: {} returned 403 due to None\n"
     ]
    },
    {
     "name": "stdout",
     "output_type": "stream",
     "text": [
      "Error fetching audio features for track Jeene Laga Hoon: http status: 403, code:-1 - https://api.spotify.com/v1/audio-features/?ids=3t3wsY5IdLVzB9WidegJSU:\n",
      " None, reason: None\n"
     ]
    },
    {
     "name": "stderr",
     "output_type": "stream",
     "text": [
      "HTTP Error for GET to https://api.spotify.com/v1/audio-features/?ids=2IEhtVeM9TVql8fZdKdlo9 with Params: {} returned 403 due to None\n"
     ]
    },
    {
     "name": "stdout",
     "output_type": "stream",
     "text": [
      "Error fetching audio features for track Main Rang Sharbaton Ka: http status: 403, code:-1 - https://api.spotify.com/v1/audio-features/?ids=2IEhtVeM9TVql8fZdKdlo9:\n",
      " None, reason: None\n"
     ]
    },
    {
     "name": "stderr",
     "output_type": "stream",
     "text": [
      "HTTP Error for GET to https://api.spotify.com/v1/audio-features/?ids=45PA9lW7U5LYnlpGrdTyHY with Params: {} returned 403 due to None\n"
     ]
    },
    {
     "name": "stdout",
     "output_type": "stream",
     "text": [
      "Error fetching audio features for track Sang Rahiyo (feat. Ujjwal Kashyap): http status: 403, code:-1 - https://api.spotify.com/v1/audio-features/?ids=45PA9lW7U5LYnlpGrdTyHY:\n",
      " None, reason: None\n"
     ]
    },
    {
     "name": "stderr",
     "output_type": "stream",
     "text": [
      "HTTP Error for GET to https://api.spotify.com/v1/audio-features/?ids=0ct6r3EGTcMLPtrXHDvVjc with Params: {} returned 403 due to None\n"
     ]
    },
    {
     "name": "stdout",
     "output_type": "stream",
     "text": [
      "Error fetching audio features for track The Nights: http status: 403, code:-1 - https://api.spotify.com/v1/audio-features/?ids=0ct6r3EGTcMLPtrXHDvVjc:\n",
      " None, reason: None\n"
     ]
    },
    {
     "name": "stderr",
     "output_type": "stream",
     "text": [
      "HTTP Error for GET to https://api.spotify.com/v1/audio-features/?ids=34wsgkPMRk3xIfHdwtezbf with Params: {} returned 403 due to None\n"
     ]
    },
    {
     "name": "stdout",
     "output_type": "stream",
     "text": [
      "Error fetching audio features for track Tainu Leke: http status: 403, code:-1 - https://api.spotify.com/v1/audio-features/?ids=34wsgkPMRk3xIfHdwtezbf:\n",
      " None, reason: None\n"
     ]
    },
    {
     "name": "stderr",
     "output_type": "stream",
     "text": [
      "HTTP Error for GET to https://api.spotify.com/v1/audio-features/?ids=2KrrAi2smn5Fa7sy7TxrKg with Params: {} returned 403 due to None\n"
     ]
    },
    {
     "name": "stdout",
     "output_type": "stream",
     "text": [
      "Error fetching audio features for track Nayan: http status: 403, code:-1 - https://api.spotify.com/v1/audio-features/?ids=2KrrAi2smn5Fa7sy7TxrKg:\n",
      " None, reason: None\n"
     ]
    },
    {
     "name": "stderr",
     "output_type": "stream",
     "text": [
      "HTTP Error for GET to https://api.spotify.com/v1/audio-features/?ids=3x55c9UVpbURc2T02DLfEM with Params: {} returned 403 due to None\n"
     ]
    },
    {
     "name": "stdout",
     "output_type": "stream",
     "text": [
      "Error fetching audio features for track Te Amo (Duet): http status: 403, code:-1 - https://api.spotify.com/v1/audio-features/?ids=3x55c9UVpbURc2T02DLfEM:\n",
      " None, reason: None\n"
     ]
    },
    {
     "name": "stderr",
     "output_type": "stream",
     "text": [
      "HTTP Error for GET to https://api.spotify.com/v1/audio-features/?ids=7hNYvX0qAKrxtVr1jGDmvR with Params: {} returned 403 due to None\n"
     ]
    },
    {
     "name": "stdout",
     "output_type": "stream",
     "text": [
      "Error fetching audio features for track Gallan Goodiyaan: http status: 403, code:-1 - https://api.spotify.com/v1/audio-features/?ids=7hNYvX0qAKrxtVr1jGDmvR:\n",
      " None, reason: None\n"
     ]
    },
    {
     "name": "stderr",
     "output_type": "stream",
     "text": [
      "HTTP Error for GET to https://api.spotify.com/v1/audio-features/?ids=2g3o6I7YuKFEUn9OOfuAfP with Params: {} returned 403 due to None\n"
     ]
    },
    {
     "name": "stdout",
     "output_type": "stream",
     "text": [
      "Error fetching audio features for track Naina Da Kya Kasoor: http status: 403, code:-1 - https://api.spotify.com/v1/audio-features/?ids=2g3o6I7YuKFEUn9OOfuAfP:\n",
      " None, reason: None\n"
     ]
    },
    {
     "name": "stderr",
     "output_type": "stream",
     "text": [
      "HTTP Error for GET to https://api.spotify.com/v1/audio-features/?ids=46elU7IBKWf55D5sjHGqO7 with Params: {} returned 403 due to None\n"
     ]
    },
    {
     "name": "stdout",
     "output_type": "stream",
     "text": [
      "Error fetching audio features for track Dil Dhadakne Do: http status: 403, code:-1 - https://api.spotify.com/v1/audio-features/?ids=46elU7IBKWf55D5sjHGqO7:\n",
      " None, reason: None\n"
     ]
    },
    {
     "name": "stderr",
     "output_type": "stream",
     "text": [
      "HTTP Error for GET to https://api.spotify.com/v1/audio-features/?ids=7glqjOAauUoPmOXp2Ovpcf with Params: {} returned 403 due to None\n"
     ]
    },
    {
     "name": "stdout",
     "output_type": "stream",
     "text": [
      "Error fetching audio features for track Tu Mileya: http status: 403, code:-1 - https://api.spotify.com/v1/audio-features/?ids=7glqjOAauUoPmOXp2Ovpcf:\n",
      " None, reason: None\n"
     ]
    },
    {
     "name": "stderr",
     "output_type": "stream",
     "text": [
      "HTTP Error for GET to https://api.spotify.com/v1/audio-features/?ids=5bHDGWyIFML1LYXZWTD5MF with Params: {} returned 403 due to None\n"
     ]
    },
    {
     "name": "stdout",
     "output_type": "stream",
     "text": [
      "Error fetching audio features for track I Love You: http status: 403, code:-1 - https://api.spotify.com/v1/audio-features/?ids=5bHDGWyIFML1LYXZWTD5MF:\n",
      " None, reason: None\n"
     ]
    },
    {
     "name": "stderr",
     "output_type": "stream",
     "text": [
      "HTTP Error for GET to https://api.spotify.com/v1/audio-features/?ids=3Uv8BQFN3bQfhkregyMbnx with Params: {} returned 403 due to None\n"
     ]
    },
    {
     "name": "stdout",
     "output_type": "stream",
     "text": [
      "Error fetching audio features for track My Dil Goes Mmmm: http status: 403, code:-1 - https://api.spotify.com/v1/audio-features/?ids=3Uv8BQFN3bQfhkregyMbnx:\n",
      " None, reason: None\n"
     ]
    },
    {
     "name": "stderr",
     "output_type": "stream",
     "text": [
      "HTTP Error for GET to https://api.spotify.com/v1/audio-features/?ids=5JCDVLwteSXuwVqjCa7SwH with Params: {} returned 403 due to None\n"
     ]
    },
    {
     "name": "stdout",
     "output_type": "stream",
     "text": [
      "Error fetching audio features for track O Rangrez: http status: 403, code:-1 - https://api.spotify.com/v1/audio-features/?ids=5JCDVLwteSXuwVqjCa7SwH:\n",
      " None, reason: None\n"
     ]
    },
    {
     "name": "stderr",
     "output_type": "stream",
     "text": [
      "HTTP Error for GET to https://api.spotify.com/v1/audio-features/?ids=32765xcLM1fd6wQIpkN9A0 with Params: {} returned 403 due to None\n"
     ]
    },
    {
     "name": "stdout",
     "output_type": "stream",
     "text": [
      "Error fetching audio features for track Hasi - Male Version: http status: 403, code:-1 - https://api.spotify.com/v1/audio-features/?ids=32765xcLM1fd6wQIpkN9A0:\n",
      " None, reason: None\n"
     ]
    },
    {
     "name": "stderr",
     "output_type": "stream",
     "text": [
      "HTTP Error for GET to https://api.spotify.com/v1/audio-features/?ids=1kDZSmw3mKQeAjcmPTLS3M with Params: {} returned 403 due to None\n"
     ]
    },
    {
     "name": "stdout",
     "output_type": "stream",
     "text": [
      "Error fetching audio features for track Tum Kya Mile (From \"Rocky Aur Rani Kii Prem Kahaani\"): http status: 403, code:-1 - https://api.spotify.com/v1/audio-features/?ids=1kDZSmw3mKQeAjcmPTLS3M:\n",
      " None, reason: None\n"
     ]
    },
    {
     "name": "stderr",
     "output_type": "stream",
     "text": [
      "HTTP Error for GET to https://api.spotify.com/v1/audio-features/?ids=7H3mfOvtPNA8YDF3EdKy0L with Params: {} returned 403 due to None\n"
     ]
    },
    {
     "name": "stdout",
     "output_type": "stream",
     "text": [
      "Error fetching audio features for track Tum Hi Ho Bandhu: http status: 403, code:-1 - https://api.spotify.com/v1/audio-features/?ids=7H3mfOvtPNA8YDF3EdKy0L:\n",
      " None, reason: None\n"
     ]
    },
    {
     "name": "stderr",
     "output_type": "stream",
     "text": [
      "HTTP Error for GET to https://api.spotify.com/v1/audio-features/?ids=0gPgdRfB4jdGrlyXS0Vx78 with Params: {} returned 403 due to None\n"
     ]
    },
    {
     "name": "stdout",
     "output_type": "stream",
     "text": [
      "Error fetching audio features for track Khuda Jaane: http status: 403, code:-1 - https://api.spotify.com/v1/audio-features/?ids=0gPgdRfB4jdGrlyXS0Vx78:\n",
      " None, reason: None\n"
     ]
    },
    {
     "name": "stderr",
     "output_type": "stream",
     "text": [
      "HTTP Error for GET to https://api.spotify.com/v1/audio-features/?ids=73y649QhnXdcm6fRdvfraO with Params: {} returned 403 due to None\n"
     ]
    },
    {
     "name": "stdout",
     "output_type": "stream",
     "text": [
      "Error fetching audio features for track Abhi Mujh Mein Kahin: http status: 403, code:-1 - https://api.spotify.com/v1/audio-features/?ids=73y649QhnXdcm6fRdvfraO:\n",
      " None, reason: None\n"
     ]
    },
    {
     "name": "stderr",
     "output_type": "stream",
     "text": [
      "HTTP Error for GET to https://api.spotify.com/v1/audio-features/?ids=6zCQF5tu7HVwU9shhKqiuF with Params: {} returned 403 due to None\n"
     ]
    },
    {
     "name": "stdout",
     "output_type": "stream",
     "text": [
      "Error fetching audio features for track Khamoshiyan: http status: 403, code:-1 - https://api.spotify.com/v1/audio-features/?ids=6zCQF5tu7HVwU9shhKqiuF:\n",
      " None, reason: None\n"
     ]
    },
    {
     "name": "stderr",
     "output_type": "stream",
     "text": [
      "HTTP Error for GET to https://api.spotify.com/v1/audio-features/?ids=6ZoCBDOB308GqUdt2AJrV2 with Params: {} returned 403 due to None\n"
     ]
    },
    {
     "name": "stdout",
     "output_type": "stream",
     "text": [
      "Error fetching audio features for track Dildaara (Stand By Me): http status: 403, code:-1 - https://api.spotify.com/v1/audio-features/?ids=6ZoCBDOB308GqUdt2AJrV2:\n",
      " None, reason: None\n"
     ]
    },
    {
     "name": "stderr",
     "output_type": "stream",
     "text": [
      "HTTP Error for GET to https://api.spotify.com/v1/audio-features/?ids=2ZD4aIEepqZsdxPxLSuUhm with Params: {} returned 403 due to None\n"
     ]
    },
    {
     "name": "stdout",
     "output_type": "stream",
     "text": [
      "Error fetching audio features for track Tere Pyaar Mein: http status: 403, code:-1 - https://api.spotify.com/v1/audio-features/?ids=2ZD4aIEepqZsdxPxLSuUhm:\n",
      " None, reason: None\n"
     ]
    },
    {
     "name": "stderr",
     "output_type": "stream",
     "text": [
      "HTTP Error for GET to https://api.spotify.com/v1/audio-features/?ids=4NmWv6PEGEAmorN5UN9fRo with Params: {} returned 403 due to None\n"
     ]
    },
    {
     "name": "stdout",
     "output_type": "stream",
     "text": [
      "Error fetching audio features for track Ajj Din Chadheya: http status: 403, code:-1 - https://api.spotify.com/v1/audio-features/?ids=4NmWv6PEGEAmorN5UN9fRo:\n",
      " None, reason: None\n"
     ]
    },
    {
     "name": "stderr",
     "output_type": "stream",
     "text": [
      "HTTP Error for GET to https://api.spotify.com/v1/audio-features/?ids=3aaiAWCet6sbfOfLSn3g7i with Params: {} returned 403 due to None\n"
     ]
    },
    {
     "name": "stdout",
     "output_type": "stream",
     "text": [
      "Error fetching audio features for track Tu Chahiye: http status: 403, code:-1 - https://api.spotify.com/v1/audio-features/?ids=3aaiAWCet6sbfOfLSn3g7i:\n",
      " None, reason: None\n"
     ]
    },
    {
     "name": "stderr",
     "output_type": "stream",
     "text": [
      "HTTP Error for GET to https://api.spotify.com/v1/audio-features/?ids=2MvCNH9ua0CeOgUQfZf56z with Params: {} returned 403 due to None\n"
     ]
    },
    {
     "name": "stdout",
     "output_type": "stream",
     "text": [
      "Error fetching audio features for track Guzarish: http status: 403, code:-1 - https://api.spotify.com/v1/audio-features/?ids=2MvCNH9ua0CeOgUQfZf56z:\n",
      " None, reason: None\n"
     ]
    },
    {
     "name": "stderr",
     "output_type": "stream",
     "text": [
      "HTTP Error for GET to https://api.spotify.com/v1/audio-features/?ids=5pPyvA03RKSJrAnnDcq0nh with Params: {} returned 403 due to None\n"
     ]
    },
    {
     "name": "stdout",
     "output_type": "stream",
     "text": [
      "Error fetching audio features for track Saibo: http status: 403, code:-1 - https://api.spotify.com/v1/audio-features/?ids=5pPyvA03RKSJrAnnDcq0nh:\n",
      " None, reason: None\n"
     ]
    },
    {
     "name": "stderr",
     "output_type": "stream",
     "text": [
      "HTTP Error for GET to https://api.spotify.com/v1/audio-features/?ids=1WxzZoWBTmB68AtyA6ejBB with Params: {} returned 403 due to None\n"
     ]
    },
    {
     "name": "stdout",
     "output_type": "stream",
     "text": [
      "Error fetching audio features for track Haan Ke Haan: http status: 403, code:-1 - https://api.spotify.com/v1/audio-features/?ids=1WxzZoWBTmB68AtyA6ejBB:\n",
      " None, reason: None\n"
     ]
    },
    {
     "name": "stderr",
     "output_type": "stream",
     "text": [
      "HTTP Error for GET to https://api.spotify.com/v1/audio-features/?ids=1WxzZoWBTmB68AtyA6ejBB with Params: {} returned 403 due to None\n"
     ]
    },
    {
     "name": "stdout",
     "output_type": "stream",
     "text": [
      "Error fetching audio features for track Haan Ke Haan: http status: 403, code:-1 - https://api.spotify.com/v1/audio-features/?ids=1WxzZoWBTmB68AtyA6ejBB:\n",
      " None, reason: None\n"
     ]
    },
    {
     "name": "stderr",
     "output_type": "stream",
     "text": [
      "HTTP Error for GET to https://api.spotify.com/v1/audio-features/?ids=0IudGhdeJZwJ0Ps6ndtQDt with Params: {} returned 403 due to None\n"
     ]
    },
    {
     "name": "stdout",
     "output_type": "stream",
     "text": [
      "Error fetching audio features for track Falak Tak: http status: 403, code:-1 - https://api.spotify.com/v1/audio-features/?ids=0IudGhdeJZwJ0Ps6ndtQDt:\n",
      " None, reason: None\n"
     ]
    },
    {
     "name": "stderr",
     "output_type": "stream",
     "text": [
      "HTTP Error for GET to https://api.spotify.com/v1/audio-features/?ids=0IudGhdeJZwJ0Ps6ndtQDt with Params: {} returned 403 due to None\n"
     ]
    },
    {
     "name": "stdout",
     "output_type": "stream",
     "text": [
      "Error fetching audio features for track Falak Tak: http status: 403, code:-1 - https://api.spotify.com/v1/audio-features/?ids=0IudGhdeJZwJ0Ps6ndtQDt:\n",
      " None, reason: None\n"
     ]
    },
    {
     "name": "stderr",
     "output_type": "stream",
     "text": [
      "HTTP Error for GET to https://api.spotify.com/v1/audio-features/?ids=0IudGhdeJZwJ0Ps6ndtQDt with Params: {} returned 403 due to None\n"
     ]
    },
    {
     "name": "stdout",
     "output_type": "stream",
     "text": [
      "Error fetching audio features for track Falak Tak: http status: 403, code:-1 - https://api.spotify.com/v1/audio-features/?ids=0IudGhdeJZwJ0Ps6ndtQDt:\n",
      " None, reason: None\n"
     ]
    },
    {
     "name": "stderr",
     "output_type": "stream",
     "text": [
      "HTTP Error for GET to https://api.spotify.com/v1/audio-features/?ids=3h6Xvd0lISog6GxTk4X6MK with Params: {} returned 403 due to None\n"
     ]
    },
    {
     "name": "stdout",
     "output_type": "stream",
     "text": [
      "Error fetching audio features for track Uska Hi Banana (From \"1920 Evil Returns\"): http status: 403, code:-1 - https://api.spotify.com/v1/audio-features/?ids=3h6Xvd0lISog6GxTk4X6MK:\n",
      " None, reason: None\n"
     ]
    },
    {
     "name": "stderr",
     "output_type": "stream",
     "text": [
      "HTTP Error for GET to https://api.spotify.com/v1/audio-features/?ids=3Kl8p2PxVf8eAayLwTxOIm with Params: {} returned 403 due to None\n"
     ]
    },
    {
     "name": "stdout",
     "output_type": "stream",
     "text": [
      "Error fetching audio features for track Dil Ibaadat: http status: 403, code:-1 - https://api.spotify.com/v1/audio-features/?ids=3Kl8p2PxVf8eAayLwTxOIm:\n",
      " None, reason: None\n"
     ]
    },
    {
     "name": "stderr",
     "output_type": "stream",
     "text": [
      "HTTP Error for GET to https://api.spotify.com/v1/audio-features/?ids=1kTEGyqUJFgstwdgJFLqz1 with Params: {} returned 403 due to None\n"
     ]
    },
    {
     "name": "stdout",
     "output_type": "stream",
     "text": [
      "Error fetching audio features for track Dil Se Dil Tak (From \"Bawaal\"): http status: 403, code:-1 - https://api.spotify.com/v1/audio-features/?ids=1kTEGyqUJFgstwdgJFLqz1:\n",
      " None, reason: None\n"
     ]
    },
    {
     "name": "stderr",
     "output_type": "stream",
     "text": [
      "HTTP Error for GET to https://api.spotify.com/v1/audio-features/?ids=1fkjRQA8wXPPyxqYLbxuqy with Params: {} returned 403 due to None\n"
     ]
    },
    {
     "name": "stdout",
     "output_type": "stream",
     "text": [
      "Error fetching audio features for track Ishq Bulaava: http status: 403, code:-1 - https://api.spotify.com/v1/audio-features/?ids=1fkjRQA8wXPPyxqYLbxuqy:\n",
      " None, reason: None\n"
     ]
    },
    {
     "name": "stderr",
     "output_type": "stream",
     "text": [
      "HTTP Error for GET to https://api.spotify.com/v1/audio-features/?ids=5XD2tP1DRH2NJgp45HiEQA with Params: {} returned 403 due to None\n"
     ]
    },
    {
     "name": "stdout",
     "output_type": "stream",
     "text": [
      "Error fetching audio features for track Bol Do Na Zara: http status: 403, code:-1 - https://api.spotify.com/v1/audio-features/?ids=5XD2tP1DRH2NJgp45HiEQA:\n",
      " None, reason: None\n"
     ]
    },
    {
     "name": "stderr",
     "output_type": "stream",
     "text": [
      "HTTP Error for GET to https://api.spotify.com/v1/audio-features/?ids=1sbW5E7w8tnqpYk0Frx8QG with Params: {} returned 403 due to None\n"
     ]
    },
    {
     "name": "stdout",
     "output_type": "stream",
     "text": [
      "Error fetching audio features for track Maahi Ve: http status: 403, code:-1 - https://api.spotify.com/v1/audio-features/?ids=1sbW5E7w8tnqpYk0Frx8QG:\n",
      " None, reason: None\n"
     ]
    },
    {
     "name": "stderr",
     "output_type": "stream",
     "text": [
      "HTTP Error for GET to https://api.spotify.com/v1/audio-features/?ids=2fMlezwwP5Hr1UwuAknN4o with Params: {} returned 403 due to None\n"
     ]
    },
    {
     "name": "stdout",
     "output_type": "stream",
     "text": [
      "Error fetching audio features for track Tose Naina (From \"Mickey Virus): http status: 403, code:-1 - https://api.spotify.com/v1/audio-features/?ids=2fMlezwwP5Hr1UwuAknN4o:\n",
      " None, reason: None\n"
     ]
    },
    {
     "name": "stderr",
     "output_type": "stream",
     "text": [
      "HTTP Error for GET to https://api.spotify.com/v1/audio-features/?ids=0rxEPf4Y6uBmV3hkrV340a with Params: {} returned 403 due to None\n"
     ]
    },
    {
     "name": "stdout",
     "output_type": "stream",
     "text": [
      "Error fetching audio features for track Isq Risk: http status: 403, code:-1 - https://api.spotify.com/v1/audio-features/?ids=0rxEPf4Y6uBmV3hkrV340a:\n",
      " None, reason: None\n"
     ]
    },
    {
     "name": "stderr",
     "output_type": "stream",
     "text": [
      "HTTP Error for GET to https://api.spotify.com/v1/audio-features/?ids=6Z394Nd4gW6Ts9hmu3NUjx with Params: {} returned 403 due to None\n"
     ]
    },
    {
     "name": "stdout",
     "output_type": "stream",
     "text": [
      "Error fetching audio features for track Nadaan Parinde: http status: 403, code:-1 - https://api.spotify.com/v1/audio-features/?ids=6Z394Nd4gW6Ts9hmu3NUjx:\n",
      " None, reason: None\n"
     ]
    },
    {
     "name": "stderr",
     "output_type": "stream",
     "text": [
      "HTTP Error for GET to https://api.spotify.com/v1/audio-features/?ids=6Z394Nd4gW6Ts9hmu3NUjx with Params: {} returned 403 due to None\n"
     ]
    },
    {
     "name": "stdout",
     "output_type": "stream",
     "text": [
      "Error fetching audio features for track Nadaan Parinde: http status: 403, code:-1 - https://api.spotify.com/v1/audio-features/?ids=6Z394Nd4gW6Ts9hmu3NUjx:\n",
      " None, reason: None\n"
     ]
    },
    {
     "name": "stderr",
     "output_type": "stream",
     "text": [
      "HTTP Error for GET to https://api.spotify.com/v1/audio-features/?ids=0ojpEubhy4JNeVftmVuiN7 with Params: {} returned 403 due to None\n"
     ]
    },
    {
     "name": "stdout",
     "output_type": "stream",
     "text": [
      "Error fetching audio features for track Pehla Pyaar: http status: 403, code:-1 - https://api.spotify.com/v1/audio-features/?ids=0ojpEubhy4JNeVftmVuiN7:\n",
      " None, reason: None\n"
     ]
    },
    {
     "name": "stderr",
     "output_type": "stream",
     "text": [
      "HTTP Error for GET to https://api.spotify.com/v1/audio-features/?ids=0ojpEubhy4JNeVftmVuiN7 with Params: {} returned 403 due to None\n"
     ]
    },
    {
     "name": "stdout",
     "output_type": "stream",
     "text": [
      "Error fetching audio features for track Pehla Pyaar: http status: 403, code:-1 - https://api.spotify.com/v1/audio-features/?ids=0ojpEubhy4JNeVftmVuiN7:\n",
      " None, reason: None\n"
     ]
    },
    {
     "name": "stderr",
     "output_type": "stream",
     "text": [
      "HTTP Error for GET to https://api.spotify.com/v1/audio-features/?ids=5J5h8d9wvvdHQNnuF4rkPJ with Params: {} returned 403 due to None\n"
     ]
    },
    {
     "name": "stdout",
     "output_type": "stream",
     "text": [
      "Error fetching audio features for track Abhi Na Jao Chhod Kar: http status: 403, code:-1 - https://api.spotify.com/v1/audio-features/?ids=5J5h8d9wvvdHQNnuF4rkPJ:\n",
      " None, reason: None\n"
     ]
    },
    {
     "name": "stderr",
     "output_type": "stream",
     "text": [
      "HTTP Error for GET to https://api.spotify.com/v1/audio-features/?ids=0GQngE2rOYvlKwEQjTAsP8 with Params: {} returned 403 due to None\n"
     ]
    },
    {
     "name": "stdout",
     "output_type": "stream",
     "text": [
      "Error fetching audio features for track Subhanallah: http status: 403, code:-1 - https://api.spotify.com/v1/audio-features/?ids=0GQngE2rOYvlKwEQjTAsP8:\n",
      " None, reason: None\n"
     ]
    },
    {
     "name": "stderr",
     "output_type": "stream",
     "text": [
      "HTTP Error for GET to https://api.spotify.com/v1/audio-features/?ids=2dOWkdPfiT9SU2Wm734Rh6 with Params: {} returned 403 due to None\n"
     ]
    },
    {
     "name": "stdout",
     "output_type": "stream",
     "text": [
      "Error fetching audio features for track Kabhi Jo Baadal Barse (From \"Jackpot): http status: 403, code:-1 - https://api.spotify.com/v1/audio-features/?ids=2dOWkdPfiT9SU2Wm734Rh6:\n",
      " None, reason: None\n",
      "                               Track Name  \\\n",
      "0                           Beete Lamhein   \n",
      "1                                Ik Bagal   \n",
      "2   Kya Mujhe Pyar Hai (From \"Woh Lamhe\")   \n",
      "3                             Dhoom Taana   \n",
      "4                      Chahun Main Ya Naa   \n",
      "..                                    ...   \n",
      "95                            Pehla Pyaar   \n",
      "96                            Pehla Pyaar   \n",
      "97                  Abhi Na Jao Chhod Kar   \n",
      "98                            Subhanallah   \n",
      "99  Kabhi Jo Baadal Barse (From \"Jackpot)   \n",
      "\n",
      "                                     Artists                 Album Name  \\\n",
      "0                                         KK                  The Train   \n",
      "1                              Piyush Mishra         Gangs Of Wasseypur   \n",
      "2                                         KK     Evergreen Hits Of K.K.   \n",
      "3   Vishal-Shekhar, Shreya Ghoshal, Abhijeet               Om Shanti Om   \n",
      "4                Palak Muchhal, Arijit Singh                 Aashiqui 2   \n",
      "..                                       ...                        ...   \n",
      "95               Vishal Mishra, Armaan Malik                Kabir Singh   \n",
      "96               Vishal Mishra, Armaan Malik                Kabir Singh   \n",
      "97                Asha Bhosle, Mohammed Rafi  Baarishein, Chai Aur Rafi   \n",
      "98               Pritam, Sreeram, Shilpa Rao    Yeh Jawaani Hai Deewani   \n",
      "99                              Arijit Singh     Love Dose Arijit Singh   \n",
      "\n",
      "                  Album ID                Track ID  Popularity Release Date  \n",
      "0   1GFvChouNq6BNSjhSi6XKP  0zQa7QXLpUZfrrsWbgDZll          64   2007-04-18  \n",
      "1   5lOKYvuSy6buolqIHSUwpG  4OOXIr4Wce7TuLUu65v653          48   2012-05-23  \n",
      "2   1dG5jJAa3ZiSWnpVd2uPao  7fW9J3EpVWVN1ouv0slAs0          65   2022-06-01  \n",
      "3   2cUzlmLfL5LUTSEk7qG09k  4eKWtXoGajnaGKvKAcgc8f          57   2007-09-18  \n",
      "4   0Rkv5iqjF2uenfL0OVB8hg  6UgcN95w7vQxkR8sEFmwHG          68   2013-04-06  \n",
      "..                     ...                     ...         ...          ...  \n",
      "95  3uuu6u13U0KeVQsZ3CZKK4  0ojpEubhy4JNeVftmVuiN7          70   2019-06-14  \n",
      "96  3uuu6u13U0KeVQsZ3CZKK4  0ojpEubhy4JNeVftmVuiN7          70   2019-06-14  \n",
      "97  03jqioEplk3k6vr7umxs7u  5J5h8d9wvvdHQNnuF4rkPJ          56   2023-07-12  \n",
      "98  2Lxoc72vRTGdQfMvj7Ovi1  0GQngE2rOYvlKwEQjTAsP8          73   2013-03-30  \n",
      "99  5aRPSAhsXgpXhxRF8q1aLI  2dOWkdPfiT9SU2Wm734Rh6          62   2016-02-11  \n",
      "\n",
      "[100 rows x 7 columns]\n"
     ]
    }
   ],
   "source": [
    "import pandas as pd\n",
    "import spotipy\n",
    "from spotipy.oauth2 import SpotifyOAuth\n",
    "\n",
    "def get_trending_playlist_data(playlist_id, access_token):\n",
    "    sp = spotipy.Spotify(auth=access_token)\n",
    "    playlist_tracks = sp.playlist_tracks(playlist_id, fields='items(track(id, name, artists, album(id, name)))')\n",
    "    music_data = []\n",
    "    for track_info in playlist_tracks['items']:\n",
    "        track = track_info['track']\n",
    "        track_name = track['name']\n",
    "        artists = ', '.join([artist['name'] for artist in track['artists']])\n",
    "        album_name = track['album']['name']\n",
    "        album_id = track['album']['id']\n",
    "        track_id = track['id']\n",
    "        \n",
    "        audio_features = None\n",
    "        try:\n",
    "            audio_features = sp.audio_features(track_id)[0] if track_id != 'Not available' else None\n",
    "        except Exception as e:\n",
    "            print(f\"Error fetching audio features for track {track_name}: {e}\")\n",
    "            \n",
    "        release_date = None\n",
    "        try:\n",
    "            album_info = sp.album(album_id) if album_id != 'Not available' else None\n",
    "            release_date = album_info['release_date'] if album_info else None\n",
    "        except Exception as e:\n",
    "            print(f\"Error fetching album info for track {track_name}: {e}\")\n",
    "            \n",
    "        popularity = None\n",
    "        try:\n",
    "            track_info = sp.track(track_id) if track_id != 'Not available' else None\n",
    "            popularity = track_info['popularity'] if track_info else None\n",
    "        except Exception as e:\n",
    "            print(f\"Error fetching popularity for track {track_name}: {e}\")\n",
    "            \n",
    "        track_data = {\n",
    "            'Track Name': track_name,\n",
    "            'Artists': artists,\n",
    "            'Album Name': album_name,\n",
    "            'Album ID': album_id,\n",
    "            'Track ID': track_id,\n",
    "            'Popularity': popularity,\n",
    "            'Release Date': release_date,\n",
    "        }\n",
    "\n",
    "        music_data.append(track_data)\n",
    "        \n",
    "    df = pd.DataFrame(music_data)\n",
    "\n",
    "    return df\n",
    "    \n",
    "playlist_id = '3hQxooWVC1PppKyAtAS9M9'\n",
    "music_df = get_trending_playlist_data(playlist_id, access_token)\n",
    "\n",
    "print(music_df)\n"
   ]
  },
  {
   "cell_type": "code",
   "execution_count": 82,
   "id": "bf83f48a-2745-4b2a-9ef2-0572669d5830",
   "metadata": {},
   "outputs": [
    {
     "data": {
      "text/html": [
       "<div>\n",
       "<style scoped>\n",
       "    .dataframe tbody tr th:only-of-type {\n",
       "        vertical-align: middle;\n",
       "    }\n",
       "\n",
       "    .dataframe tbody tr th {\n",
       "        vertical-align: top;\n",
       "    }\n",
       "\n",
       "    .dataframe thead th {\n",
       "        text-align: right;\n",
       "    }\n",
       "</style>\n",
       "<table border=\"1\" class=\"dataframe\">\n",
       "  <thead>\n",
       "    <tr style=\"text-align: right;\">\n",
       "      <th></th>\n",
       "      <th>Track Name</th>\n",
       "      <th>Artists</th>\n",
       "      <th>Album Name</th>\n",
       "      <th>Album ID</th>\n",
       "      <th>Track ID</th>\n",
       "      <th>Popularity</th>\n",
       "      <th>Release Date</th>\n",
       "    </tr>\n",
       "  </thead>\n",
       "  <tbody>\n",
       "    <tr>\n",
       "      <th>0</th>\n",
       "      <td>Beete Lamhein</td>\n",
       "      <td>KK</td>\n",
       "      <td>The Train</td>\n",
       "      <td>1GFvChouNq6BNSjhSi6XKP</td>\n",
       "      <td>0zQa7QXLpUZfrrsWbgDZll</td>\n",
       "      <td>64</td>\n",
       "      <td>2007-04-18</td>\n",
       "    </tr>\n",
       "    <tr>\n",
       "      <th>1</th>\n",
       "      <td>Ik Bagal</td>\n",
       "      <td>Piyush Mishra</td>\n",
       "      <td>Gangs Of Wasseypur</td>\n",
       "      <td>5lOKYvuSy6buolqIHSUwpG</td>\n",
       "      <td>4OOXIr4Wce7TuLUu65v653</td>\n",
       "      <td>48</td>\n",
       "      <td>2012-05-23</td>\n",
       "    </tr>\n",
       "    <tr>\n",
       "      <th>2</th>\n",
       "      <td>Kya Mujhe Pyar Hai (From \"Woh Lamhe\")</td>\n",
       "      <td>KK</td>\n",
       "      <td>Evergreen Hits Of K.K.</td>\n",
       "      <td>1dG5jJAa3ZiSWnpVd2uPao</td>\n",
       "      <td>7fW9J3EpVWVN1ouv0slAs0</td>\n",
       "      <td>65</td>\n",
       "      <td>2022-06-01</td>\n",
       "    </tr>\n",
       "    <tr>\n",
       "      <th>3</th>\n",
       "      <td>Dhoom Taana</td>\n",
       "      <td>Vishal-Shekhar, Shreya Ghoshal, Abhijeet</td>\n",
       "      <td>Om Shanti Om</td>\n",
       "      <td>2cUzlmLfL5LUTSEk7qG09k</td>\n",
       "      <td>4eKWtXoGajnaGKvKAcgc8f</td>\n",
       "      <td>57</td>\n",
       "      <td>2007-09-18</td>\n",
       "    </tr>\n",
       "    <tr>\n",
       "      <th>4</th>\n",
       "      <td>Chahun Main Ya Naa</td>\n",
       "      <td>Palak Muchhal, Arijit Singh</td>\n",
       "      <td>Aashiqui 2</td>\n",
       "      <td>0Rkv5iqjF2uenfL0OVB8hg</td>\n",
       "      <td>6UgcN95w7vQxkR8sEFmwHG</td>\n",
       "      <td>68</td>\n",
       "      <td>2013-04-06</td>\n",
       "    </tr>\n",
       "  </tbody>\n",
       "</table>\n",
       "</div>"
      ],
      "text/plain": [
       "                              Track Name  \\\n",
       "0                          Beete Lamhein   \n",
       "1                               Ik Bagal   \n",
       "2  Kya Mujhe Pyar Hai (From \"Woh Lamhe\")   \n",
       "3                            Dhoom Taana   \n",
       "4                     Chahun Main Ya Naa   \n",
       "\n",
       "                                    Artists              Album Name  \\\n",
       "0                                        KK               The Train   \n",
       "1                             Piyush Mishra      Gangs Of Wasseypur   \n",
       "2                                        KK  Evergreen Hits Of K.K.   \n",
       "3  Vishal-Shekhar, Shreya Ghoshal, Abhijeet            Om Shanti Om   \n",
       "4               Palak Muchhal, Arijit Singh              Aashiqui 2   \n",
       "\n",
       "                 Album ID                Track ID  Popularity Release Date  \n",
       "0  1GFvChouNq6BNSjhSi6XKP  0zQa7QXLpUZfrrsWbgDZll          64   2007-04-18  \n",
       "1  5lOKYvuSy6buolqIHSUwpG  4OOXIr4Wce7TuLUu65v653          48   2012-05-23  \n",
       "2  1dG5jJAa3ZiSWnpVd2uPao  7fW9J3EpVWVN1ouv0slAs0          65   2022-06-01  \n",
       "3  2cUzlmLfL5LUTSEk7qG09k  4eKWtXoGajnaGKvKAcgc8f          57   2007-09-18  \n",
       "4  0Rkv5iqjF2uenfL0OVB8hg  6UgcN95w7vQxkR8sEFmwHG          68   2013-04-06  "
      ]
     },
     "execution_count": 82,
     "metadata": {},
     "output_type": "execute_result"
    }
   ],
   "source": [
    "music_df.head()"
   ]
  },
  {
   "cell_type": "code",
   "execution_count": 83,
   "id": "f8d9dab4-07ac-4efc-b9ac-73ee77efb8da",
   "metadata": {},
   "outputs": [],
   "source": [
    "new_df = music_df"
   ]
  },
  {
   "cell_type": "code",
   "execution_count": 84,
   "id": "3e3dfc40-c070-4a8c-96ad-296606124a5f",
   "metadata": {},
   "outputs": [
    {
     "data": {
      "text/html": [
       "<div>\n",
       "<style scoped>\n",
       "    .dataframe tbody tr th:only-of-type {\n",
       "        vertical-align: middle;\n",
       "    }\n",
       "\n",
       "    .dataframe tbody tr th {\n",
       "        vertical-align: top;\n",
       "    }\n",
       "\n",
       "    .dataframe thead th {\n",
       "        text-align: right;\n",
       "    }\n",
       "</style>\n",
       "<table border=\"1\" class=\"dataframe\">\n",
       "  <thead>\n",
       "    <tr style=\"text-align: right;\">\n",
       "      <th></th>\n",
       "      <th>Track Name</th>\n",
       "      <th>Artists</th>\n",
       "      <th>Album Name</th>\n",
       "      <th>Album ID</th>\n",
       "      <th>Track ID</th>\n",
       "      <th>Popularity</th>\n",
       "      <th>Release Date</th>\n",
       "    </tr>\n",
       "  </thead>\n",
       "  <tbody>\n",
       "    <tr>\n",
       "      <th>0</th>\n",
       "      <td>Beete Lamhein</td>\n",
       "      <td>KK</td>\n",
       "      <td>The Train</td>\n",
       "      <td>1GFvChouNq6BNSjhSi6XKP</td>\n",
       "      <td>0zQa7QXLpUZfrrsWbgDZll</td>\n",
       "      <td>64</td>\n",
       "      <td>2007-04-18</td>\n",
       "    </tr>\n",
       "    <tr>\n",
       "      <th>1</th>\n",
       "      <td>Ik Bagal</td>\n",
       "      <td>Piyush Mishra</td>\n",
       "      <td>Gangs Of Wasseypur</td>\n",
       "      <td>5lOKYvuSy6buolqIHSUwpG</td>\n",
       "      <td>4OOXIr4Wce7TuLUu65v653</td>\n",
       "      <td>48</td>\n",
       "      <td>2012-05-23</td>\n",
       "    </tr>\n",
       "    <tr>\n",
       "      <th>2</th>\n",
       "      <td>Kya Mujhe Pyar Hai (From \"Woh Lamhe\")</td>\n",
       "      <td>KK</td>\n",
       "      <td>Evergreen Hits Of K.K.</td>\n",
       "      <td>1dG5jJAa3ZiSWnpVd2uPao</td>\n",
       "      <td>7fW9J3EpVWVN1ouv0slAs0</td>\n",
       "      <td>65</td>\n",
       "      <td>2022-06-01</td>\n",
       "    </tr>\n",
       "    <tr>\n",
       "      <th>3</th>\n",
       "      <td>Dhoom Taana</td>\n",
       "      <td>Vishal-Shekhar, Shreya Ghoshal, Abhijeet</td>\n",
       "      <td>Om Shanti Om</td>\n",
       "      <td>2cUzlmLfL5LUTSEk7qG09k</td>\n",
       "      <td>4eKWtXoGajnaGKvKAcgc8f</td>\n",
       "      <td>57</td>\n",
       "      <td>2007-09-18</td>\n",
       "    </tr>\n",
       "    <tr>\n",
       "      <th>4</th>\n",
       "      <td>Chahun Main Ya Naa</td>\n",
       "      <td>Palak Muchhal, Arijit Singh</td>\n",
       "      <td>Aashiqui 2</td>\n",
       "      <td>0Rkv5iqjF2uenfL0OVB8hg</td>\n",
       "      <td>6UgcN95w7vQxkR8sEFmwHG</td>\n",
       "      <td>68</td>\n",
       "      <td>2013-04-06</td>\n",
       "    </tr>\n",
       "    <tr>\n",
       "      <th>...</th>\n",
       "      <td>...</td>\n",
       "      <td>...</td>\n",
       "      <td>...</td>\n",
       "      <td>...</td>\n",
       "      <td>...</td>\n",
       "      <td>...</td>\n",
       "      <td>...</td>\n",
       "    </tr>\n",
       "    <tr>\n",
       "      <th>95</th>\n",
       "      <td>Pehla Pyaar</td>\n",
       "      <td>Vishal Mishra, Armaan Malik</td>\n",
       "      <td>Kabir Singh</td>\n",
       "      <td>3uuu6u13U0KeVQsZ3CZKK4</td>\n",
       "      <td>0ojpEubhy4JNeVftmVuiN7</td>\n",
       "      <td>70</td>\n",
       "      <td>2019-06-14</td>\n",
       "    </tr>\n",
       "    <tr>\n",
       "      <th>96</th>\n",
       "      <td>Pehla Pyaar</td>\n",
       "      <td>Vishal Mishra, Armaan Malik</td>\n",
       "      <td>Kabir Singh</td>\n",
       "      <td>3uuu6u13U0KeVQsZ3CZKK4</td>\n",
       "      <td>0ojpEubhy4JNeVftmVuiN7</td>\n",
       "      <td>70</td>\n",
       "      <td>2019-06-14</td>\n",
       "    </tr>\n",
       "    <tr>\n",
       "      <th>97</th>\n",
       "      <td>Abhi Na Jao Chhod Kar</td>\n",
       "      <td>Asha Bhosle, Mohammed Rafi</td>\n",
       "      <td>Baarishein, Chai Aur Rafi</td>\n",
       "      <td>03jqioEplk3k6vr7umxs7u</td>\n",
       "      <td>5J5h8d9wvvdHQNnuF4rkPJ</td>\n",
       "      <td>56</td>\n",
       "      <td>2023-07-12</td>\n",
       "    </tr>\n",
       "    <tr>\n",
       "      <th>98</th>\n",
       "      <td>Subhanallah</td>\n",
       "      <td>Pritam, Sreeram, Shilpa Rao</td>\n",
       "      <td>Yeh Jawaani Hai Deewani</td>\n",
       "      <td>2Lxoc72vRTGdQfMvj7Ovi1</td>\n",
       "      <td>0GQngE2rOYvlKwEQjTAsP8</td>\n",
       "      <td>73</td>\n",
       "      <td>2013-03-30</td>\n",
       "    </tr>\n",
       "    <tr>\n",
       "      <th>99</th>\n",
       "      <td>Kabhi Jo Baadal Barse (From \"Jackpot)</td>\n",
       "      <td>Arijit Singh</td>\n",
       "      <td>Love Dose Arijit Singh</td>\n",
       "      <td>5aRPSAhsXgpXhxRF8q1aLI</td>\n",
       "      <td>2dOWkdPfiT9SU2Wm734Rh6</td>\n",
       "      <td>62</td>\n",
       "      <td>2016-02-11</td>\n",
       "    </tr>\n",
       "  </tbody>\n",
       "</table>\n",
       "<p>100 rows × 7 columns</p>\n",
       "</div>"
      ],
      "text/plain": [
       "                               Track Name  \\\n",
       "0                           Beete Lamhein   \n",
       "1                                Ik Bagal   \n",
       "2   Kya Mujhe Pyar Hai (From \"Woh Lamhe\")   \n",
       "3                             Dhoom Taana   \n",
       "4                      Chahun Main Ya Naa   \n",
       "..                                    ...   \n",
       "95                            Pehla Pyaar   \n",
       "96                            Pehla Pyaar   \n",
       "97                  Abhi Na Jao Chhod Kar   \n",
       "98                            Subhanallah   \n",
       "99  Kabhi Jo Baadal Barse (From \"Jackpot)   \n",
       "\n",
       "                                     Artists                 Album Name  \\\n",
       "0                                         KK                  The Train   \n",
       "1                              Piyush Mishra         Gangs Of Wasseypur   \n",
       "2                                         KK     Evergreen Hits Of K.K.   \n",
       "3   Vishal-Shekhar, Shreya Ghoshal, Abhijeet               Om Shanti Om   \n",
       "4                Palak Muchhal, Arijit Singh                 Aashiqui 2   \n",
       "..                                       ...                        ...   \n",
       "95               Vishal Mishra, Armaan Malik                Kabir Singh   \n",
       "96               Vishal Mishra, Armaan Malik                Kabir Singh   \n",
       "97                Asha Bhosle, Mohammed Rafi  Baarishein, Chai Aur Rafi   \n",
       "98               Pritam, Sreeram, Shilpa Rao    Yeh Jawaani Hai Deewani   \n",
       "99                              Arijit Singh     Love Dose Arijit Singh   \n",
       "\n",
       "                  Album ID                Track ID  Popularity Release Date  \n",
       "0   1GFvChouNq6BNSjhSi6XKP  0zQa7QXLpUZfrrsWbgDZll          64   2007-04-18  \n",
       "1   5lOKYvuSy6buolqIHSUwpG  4OOXIr4Wce7TuLUu65v653          48   2012-05-23  \n",
       "2   1dG5jJAa3ZiSWnpVd2uPao  7fW9J3EpVWVN1ouv0slAs0          65   2022-06-01  \n",
       "3   2cUzlmLfL5LUTSEk7qG09k  4eKWtXoGajnaGKvKAcgc8f          57   2007-09-18  \n",
       "4   0Rkv5iqjF2uenfL0OVB8hg  6UgcN95w7vQxkR8sEFmwHG          68   2013-04-06  \n",
       "..                     ...                     ...         ...          ...  \n",
       "95  3uuu6u13U0KeVQsZ3CZKK4  0ojpEubhy4JNeVftmVuiN7          70   2019-06-14  \n",
       "96  3uuu6u13U0KeVQsZ3CZKK4  0ojpEubhy4JNeVftmVuiN7          70   2019-06-14  \n",
       "97  03jqioEplk3k6vr7umxs7u  5J5h8d9wvvdHQNnuF4rkPJ          56   2023-07-12  \n",
       "98  2Lxoc72vRTGdQfMvj7Ovi1  0GQngE2rOYvlKwEQjTAsP8          73   2013-03-30  \n",
       "99  5aRPSAhsXgpXhxRF8q1aLI  2dOWkdPfiT9SU2Wm734Rh6          62   2016-02-11  \n",
       "\n",
       "[100 rows x 7 columns]"
      ]
     },
     "execution_count": 84,
     "metadata": {},
     "output_type": "execute_result"
    }
   ],
   "source": [
    "new_df"
   ]
  },
  {
   "cell_type": "code",
   "execution_count": 85,
   "id": "a5493c72-b138-4589-b30c-78fe332de8d4",
   "metadata": {},
   "outputs": [
    {
     "data": {
      "text/plain": [
       "(100, 7)"
      ]
     },
     "execution_count": 85,
     "metadata": {},
     "output_type": "execute_result"
    }
   ],
   "source": [
    "new_df.shape"
   ]
  },
  {
   "cell_type": "code",
   "execution_count": 86,
   "id": "8252aa88-ddb5-47e9-a21f-6ec9f0d21c6c",
   "metadata": {},
   "outputs": [],
   "source": [
    "new_df.to_csv('Spotify_data.csv', index=False)\n"
   ]
  },
  {
   "cell_type": "code",
   "execution_count": null,
   "id": "11f78ebf-0faa-40df-aa48-1bed73f6e889",
   "metadata": {},
   "outputs": [],
   "source": []
  },
  {
   "cell_type": "code",
   "execution_count": null,
   "id": "a7571373-9c2f-443d-a28d-be1a70be2c55",
   "metadata": {},
   "outputs": [],
   "source": []
  },
  {
   "cell_type": "code",
   "execution_count": 75,
   "id": "af787b92-2377-43d7-b9b9-c423a38a0d0d",
   "metadata": {},
   "outputs": [],
   "source": []
  },
  {
   "cell_type": "code",
   "execution_count": null,
   "id": "7b59a0ed-be0b-4d87-ab57-3b62267d0d1f",
   "metadata": {},
   "outputs": [],
   "source": []
  },
  {
   "cell_type": "code",
   "execution_count": null,
   "id": "ace9538d-f6da-41c9-845b-2174dceaae9a",
   "metadata": {},
   "outputs": [],
   "source": []
  },
  {
   "cell_type": "code",
   "execution_count": null,
   "id": "7b27c73d-9431-4b78-86bd-c164c948a181",
   "metadata": {},
   "outputs": [],
   "source": []
  },
  {
   "cell_type": "code",
   "execution_count": null,
   "id": "46103d06-1f64-42a8-bcd7-8d2d04c560ac",
   "metadata": {},
   "outputs": [],
   "source": []
  },
  {
   "cell_type": "code",
   "execution_count": null,
   "id": "f1f8c0b0-66f0-4022-a844-f03bdb668a32",
   "metadata": {},
   "outputs": [],
   "source": []
  },
  {
   "cell_type": "code",
   "execution_count": null,
   "id": "5412c0fa-9baf-4d08-80a0-ac05909ea3a7",
   "metadata": {},
   "outputs": [],
   "source": []
  },
  {
   "cell_type": "code",
   "execution_count": null,
   "id": "519a4083-8c32-4ba1-92e9-5384ef02fc3f",
   "metadata": {},
   "outputs": [],
   "source": []
  },
  {
   "cell_type": "code",
   "execution_count": null,
   "id": "e128dd4c-4497-419d-8c35-a18cee9257e8",
   "metadata": {},
   "outputs": [],
   "source": []
  },
  {
   "cell_type": "code",
   "execution_count": null,
   "id": "78cfb6b9-eb58-4f10-a7f3-6c7c15d71fb3",
   "metadata": {},
   "outputs": [],
   "source": []
  }
 ],
 "metadata": {
  "kernelspec": {
   "display_name": "Python 3 (ipykernel)",
   "language": "python",
   "name": "python3"
  },
  "language_info": {
   "codemirror_mode": {
    "name": "ipython",
    "version": 3
   },
   "file_extension": ".py",
   "mimetype": "text/x-python",
   "name": "python",
   "nbconvert_exporter": "python",
   "pygments_lexer": "ipython3",
   "version": "3.11.5"
  }
 },
 "nbformat": 4,
 "nbformat_minor": 5
}
